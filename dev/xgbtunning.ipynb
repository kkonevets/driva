{
 "cells": [
  {
   "cell_type": "code",
   "execution_count": 17,
   "metadata": {
    "collapsed": true
   },
   "outputs": [],
   "source": [
    "import sys\n",
    "import pickle\n",
    "import numpy as np\n",
    "import pandas as pd\n",
    "import xgboost as xgb\n",
    "from matplotlib import pyplot as plt\n",
    "from sklearn.metrics import accuracy_score, f1_score, roc_auc_score, confusion_matrix\n",
    "from sklearn.model_selection import train_test_split\n",
    "from sklearn.model_selection import GridSearchCV\n",
    "from sklearn.model_selection import cross_val_score\n",
    "from sklearn.model_selection import learning_curve\n",
    "from sklearn.model_selection import StratifiedKFold\n",
    "import seaborn as sns\n",
    "import matplotlib\n",
    "import itertools\n",
    "import time\n",
    "import random\n",
    "from IPython.display import clear_output, display\n",
    "\n",
    "import multiprocessing as mp\n",
    "from functools import partial\n",
    "\n",
    "sns.set(color_codes=True)\n",
    "pd.set_option('display.max_colwidth', 1000)\n",
    "\n",
    "%matplotlib inline\n",
    "\n",
    "matplotlib.rcParams['figure.figsize'] = (15, 10)"
   ]
  },
  {
   "cell_type": "markdown",
   "metadata": {},
   "source": [
    "### Load precomputed features"
   ]
  },
  {
   "cell_type": "code",
   "execution_count": 4,
   "metadata": {
    "scrolled": true,
    "collapsed": false
   },
   "outputs": [
    {
     "name": "stdout",
     "output_type": "stream",
     "text": [
      "2035\n",
      "[1604  431]\n"
     ]
    }
   ],
   "source": [
    "data_dir = '/home/guyos/Documents/bus_detection/50_50/'\n",
    "# data_dir = '/home/guyos/D/Public/Kirill/'\n",
    "with open(data_dir + 'ftrs.pickle', 'rb') as handle:\n",
    "    X, y = pickle.load(handle)\n",
    "\n",
    "del X['Rating']\n",
    "print(len(X))\n",
    "print(np.bincount(y))\n",
    "# list(X.columns)\n",
    "\n",
    "X_train, X_test, y_train, y_test = \\\n",
    "    train_test_split(X, y, test_size=0.2, random_state=223, stratify=y)\n",
    "\n",
    "# 2035\n",
    "# [1502  533]"
   ]
  },
  {
   "cell_type": "markdown",
   "metadata": {},
   "source": [
    "### Поиск по сетке с нативным xgb.cv методом"
   ]
  },
  {
   "cell_type": "code",
   "execution_count": 5,
   "metadata": {
    "collapsed": true
   },
   "outputs": [],
   "source": [
    "def xgb_grid_search(model, X, y, cv_grid, eval_metric='rmse', nfold=5,\n",
    "                    early_stopping_rounds=None, updater=None, max_bin=None):\n",
    "    def dict_product(dicts):\n",
    "        return (dict(zip(dicts, x)) for x in itertools.product(*dicts.values()))\n",
    "\n",
    "    g = dict_product(cv_grid)\n",
    "    params_list = list(g)\n",
    "\n",
    "    tmp = time.time()\n",
    "    \n",
    "    keeper = []\n",
    "    for i, params in enumerate(params_list):\n",
    "        model.set_params(**params)\n",
    "        booster_params = model.get_params()\n",
    "        if updater:\n",
    "            booster_params['updater'] = updater\n",
    "        booster_params['nthread'] = mp.cpu_count()\n",
    "        if max_bin:\n",
    "            booster_params['max_bin'] = max_bin\n",
    "        res = cross_validate(booster_params, X, y, nfold, eval_metric,\n",
    "                             early_stopping_rounds=early_stopping_rounds)\n",
    "\n",
    "        last = res.iloc[-1].copy()\n",
    "        last['params'] = params\n",
    "        last['perc'] = int(100 * i / len(params_list))\n",
    "        last = pd.DataFrame(last).T\n",
    "        \n",
    "        keeper.append(last)\n",
    "        clear_output(wait=True)\n",
    "        display(last)\n",
    "\n",
    "    search_time = time.time() - tmp\n",
    "    print('search_time %s' % search_time)\n",
    "\n",
    "    result = pd.concat(keeper)\n",
    "    result.reset_index(inplace=True, drop=True)\n",
    "    \n",
    "    return result\n",
    "\n",
    "\n",
    "def cross_validate(params, X, y, nfold, eval_metric,\n",
    "                   early_stopping_rounds=None):\n",
    "    dtrain = xgb.DMatrix(X, y)\n",
    "    if 'n_estimators' in params:\n",
    "        num_boost_round = params['n_estimators']\n",
    "    else:\n",
    "        num_boost_round = 100  # default number in XGBClassifier\n",
    "\n",
    "    res = xgb.cv(params, dtrain, nfold=nfold, num_boost_round=num_boost_round,\n",
    "                 metrics=[eval_metric], seed=0, as_pandas=True, #stratified=True\n",
    "                 early_stopping_rounds=early_stopping_rounds)\n",
    "    return res"
   ]
  },
  {
   "cell_type": "code",
   "execution_count": 6,
   "metadata": {
    "collapsed": true
   },
   "outputs": [],
   "source": [
    "def evaluate(probs, y_test, threshold=0.5):\n",
    "    y_pred = (probs >= threshold).astype(int)\n",
    "    accuracy = accuracy_score(y_test, y_pred) * 100\n",
    "    f1score = f1_score(y_test, y_pred) * 100\n",
    "    if len(np.unique(y_test)) != 1:\n",
    "        auc = roc_auc_score(y_test, probs) * 100\n",
    "    else:\n",
    "        auc = 0\n",
    "    print(\"Accuracy: %.2f%%, f1 score: %.2f%%, auc score: %.2f%%\" % (accuracy, f1score, auc))\n",
    "\n",
    "    cm = confusion_matrix(y_test, y_pred)\n",
    "    return cm"
   ]
  },
  {
   "cell_type": "markdown",
   "metadata": {},
   "source": [
    "### Зафиксируем малый n_estimators и большой learning_rate для быстрого поиска по сетке"
   ]
  },
  {
   "cell_type": "code",
   "execution_count": 24,
   "metadata": {
    "scrolled": true
   },
   "outputs": [
    {
     "data": {
      "text/html": [
       "<div>\n",
       "<style>\n",
       "    .dataframe thead tr:only-child th {\n",
       "        text-align: right;\n",
       "    }\n",
       "\n",
       "    .dataframe thead th {\n",
       "        text-align: left;\n",
       "    }\n",
       "\n",
       "    .dataframe tbody tr th {\n",
       "        vertical-align: top;\n",
       "    }\n",
       "</style>\n",
       "<table border=\"1\" class=\"dataframe\">\n",
       "  <thead>\n",
       "    <tr style=\"text-align: right;\">\n",
       "      <th></th>\n",
       "      <th>test-auc-mean</th>\n",
       "      <th>test-auc-std</th>\n",
       "      <th>train-auc-mean</th>\n",
       "      <th>train-auc-std</th>\n",
       "      <th>params</th>\n",
       "      <th>perc</th>\n",
       "    </tr>\n",
       "  </thead>\n",
       "  <tbody>\n",
       "    <tr>\n",
       "      <th>99</th>\n",
       "      <td>0.935394</td>\n",
       "      <td>0.0127843</td>\n",
       "      <td>0.991428</td>\n",
       "      <td>0.000560354</td>\n",
       "      <td>{'n_estimators': 100, 'learning_rate': 0.1, 'max_depth': 3, 'min_child_weight': 1, 'gamma': 1, 'subsample': 0.8, 'colsample_bytree': 0.8, 'reg_alpha': 3}</td>\n",
       "      <td>0</td>\n",
       "    </tr>\n",
       "  </tbody>\n",
       "</table>\n",
       "</div>"
      ],
      "text/plain": [
       "   test-auc-mean test-auc-std train-auc-mean train-auc-std  \\\n",
       "99      0.935394    0.0127843       0.991428   0.000560354   \n",
       "\n",
       "                                                                                                                                                       params  \\\n",
       "99  {'n_estimators': 100, 'learning_rate': 0.1, 'max_depth': 3, 'min_child_weight': 1, 'gamma': 1, 'subsample': 0.8, 'colsample_bytree': 0.8, 'reg_alpha': 3}   \n",
       "\n",
       "   perc  \n",
       "99    0  "
      ]
     },
     "metadata": {},
     "output_type": "execute_result"
    },
    {
     "ename": "KeyboardInterrupt",
     "evalue": "",
     "traceback": [
      "\u001b[0;31m---------------------------------------------------------------------------\u001b[0m",
      "\u001b[0;31mKeyboardInterrupt\u001b[0m                         Traceback (most recent call last)",
      "\u001b[0;32m<ipython-input-24-ba3802610835>\u001b[0m in \u001b[0;36m<module>\u001b[0;34m()\u001b[0m\n\u001b[1;32m     12\u001b[0m }\n\u001b[1;32m     13\u001b[0m \u001b[0;34m\u001b[0m\u001b[0m\n\u001b[0;32m---> 14\u001b[0;31m \u001b[0mres0\u001b[0m \u001b[0;34m=\u001b[0m \u001b[0mxgb_grid_search\u001b[0m\u001b[0;34m(\u001b[0m\u001b[0mmodel\u001b[0m\u001b[0;34m,\u001b[0m \u001b[0mX_train\u001b[0m\u001b[0;34m,\u001b[0m \u001b[0my_train\u001b[0m\u001b[0;34m,\u001b[0m \u001b[0mcv_params\u001b[0m\u001b[0;34m,\u001b[0m \u001b[0mnfold\u001b[0m\u001b[0;34m=\u001b[0m\u001b[0;36m5\u001b[0m\u001b[0;34m,\u001b[0m \u001b[0meval_metric\u001b[0m\u001b[0;34m=\u001b[0m\u001b[0;34m'auc'\u001b[0m\u001b[0;34m)\u001b[0m\u001b[0;34m\u001b[0m\u001b[0m\n\u001b[0m\u001b[1;32m     15\u001b[0m \u001b[0mres0\u001b[0m\u001b[0;34m[\u001b[0m\u001b[0;34m'diff'\u001b[0m\u001b[0;34m]\u001b[0m \u001b[0;34m=\u001b[0m \u001b[0mres0\u001b[0m\u001b[0;34m[\u001b[0m\u001b[0;34m'train-auc-mean'\u001b[0m\u001b[0;34m]\u001b[0m \u001b[0;34m-\u001b[0m \u001b[0mres0\u001b[0m\u001b[0;34m[\u001b[0m\u001b[0;34m'test-auc-mean'\u001b[0m\u001b[0;34m]\u001b[0m\u001b[0;34m\u001b[0m\u001b[0m\n",
      "\u001b[0;32m<ipython-input-5-29796578fd5e>\u001b[0m in \u001b[0;36mxgb_grid_search\u001b[0;34m(model, X, y, cv_grid, eval_metric, nfold, early_stopping_rounds, updater, max_bin)\u001b[0m\n\u001b[1;32m     19\u001b[0m             \u001b[0mbooster_params\u001b[0m\u001b[0;34m[\u001b[0m\u001b[0;34m'max_bin'\u001b[0m\u001b[0;34m]\u001b[0m \u001b[0;34m=\u001b[0m \u001b[0mmax_bin\u001b[0m\u001b[0;34m\u001b[0m\u001b[0m\n\u001b[1;32m     20\u001b[0m         res = cross_validate(booster_params, X, y, nfold, eval_metric,\n\u001b[0;32m---> 21\u001b[0;31m                              early_stopping_rounds=early_stopping_rounds)\n\u001b[0m\u001b[1;32m     22\u001b[0m \u001b[0;34m\u001b[0m\u001b[0m\n\u001b[1;32m     23\u001b[0m         \u001b[0mlast\u001b[0m \u001b[0;34m=\u001b[0m \u001b[0mres\u001b[0m\u001b[0;34m.\u001b[0m\u001b[0miloc\u001b[0m\u001b[0;34m[\u001b[0m\u001b[0;34m-\u001b[0m\u001b[0;36m1\u001b[0m\u001b[0;34m]\u001b[0m\u001b[0;34m.\u001b[0m\u001b[0mcopy\u001b[0m\u001b[0;34m(\u001b[0m\u001b[0;34m)\u001b[0m\u001b[0;34m\u001b[0m\u001b[0m\n",
      "\u001b[0;32m<ipython-input-5-29796578fd5e>\u001b[0m in \u001b[0;36mcross_validate\u001b[0;34m(params, X, y, nfold, eval_metric, early_stopping_rounds)\u001b[0m\n\u001b[1;32m     49\u001b[0m     res = xgb.cv(params, dtrain, nfold=nfold, num_boost_round=num_boost_round,\n\u001b[1;32m     50\u001b[0m                  \u001b[0mmetrics\u001b[0m\u001b[0;34m=\u001b[0m\u001b[0;34m[\u001b[0m\u001b[0meval_metric\u001b[0m\u001b[0;34m]\u001b[0m\u001b[0;34m,\u001b[0m \u001b[0mseed\u001b[0m\u001b[0;34m=\u001b[0m\u001b[0;36m0\u001b[0m\u001b[0;34m,\u001b[0m \u001b[0mas_pandas\u001b[0m\u001b[0;34m=\u001b[0m\u001b[0;32mTrue\u001b[0m\u001b[0;34m,\u001b[0m \u001b[0;31m#stratified=True\u001b[0m\u001b[0;34m\u001b[0m\u001b[0m\n\u001b[0;32m---> 51\u001b[0;31m                  early_stopping_rounds=early_stopping_rounds)\n\u001b[0m\u001b[1;32m     52\u001b[0m     \u001b[0;32mreturn\u001b[0m \u001b[0mres\u001b[0m\u001b[0;34m\u001b[0m\u001b[0m\n",
      "\u001b[0;32m/home/guyos/anaconda3/lib/python3.6/site-packages/xgboost-0.6-py3.6.egg/xgboost/training.py\u001b[0m in \u001b[0;36mcv\u001b[0;34m(params, dtrain, num_boost_round, nfold, stratified, folds, metrics, obj, feval, maximize, early_stopping_rounds, fpreproc, as_pandas, verbose_eval, show_stdv, seed, callbacks, shuffle)\u001b[0m\n\u001b[1;32m    405\u001b[0m                            evaluation_result_list=None))\n\u001b[1;32m    406\u001b[0m         \u001b[0;32mfor\u001b[0m \u001b[0mfold\u001b[0m \u001b[0;32min\u001b[0m \u001b[0mcvfolds\u001b[0m\u001b[0;34m:\u001b[0m\u001b[0;34m\u001b[0m\u001b[0m\n\u001b[0;32m--> 407\u001b[0;31m             \u001b[0mfold\u001b[0m\u001b[0;34m.\u001b[0m\u001b[0mupdate\u001b[0m\u001b[0;34m(\u001b[0m\u001b[0mi\u001b[0m\u001b[0;34m,\u001b[0m \u001b[0mobj\u001b[0m\u001b[0;34m)\u001b[0m\u001b[0;34m\u001b[0m\u001b[0m\n\u001b[0m\u001b[1;32m    408\u001b[0m         \u001b[0mres\u001b[0m \u001b[0;34m=\u001b[0m \u001b[0maggcv\u001b[0m\u001b[0;34m(\u001b[0m\u001b[0;34m[\u001b[0m\u001b[0mf\u001b[0m\u001b[0;34m.\u001b[0m\u001b[0meval\u001b[0m\u001b[0;34m(\u001b[0m\u001b[0mi\u001b[0m\u001b[0;34m,\u001b[0m \u001b[0mfeval\u001b[0m\u001b[0;34m)\u001b[0m \u001b[0;32mfor\u001b[0m \u001b[0mf\u001b[0m \u001b[0;32min\u001b[0m \u001b[0mcvfolds\u001b[0m\u001b[0;34m]\u001b[0m\u001b[0;34m)\u001b[0m\u001b[0;34m\u001b[0m\u001b[0m\n\u001b[1;32m    409\u001b[0m \u001b[0;34m\u001b[0m\u001b[0m\n",
      "\u001b[0;32m/home/guyos/anaconda3/lib/python3.6/site-packages/xgboost-0.6-py3.6.egg/xgboost/training.py\u001b[0m in \u001b[0;36mupdate\u001b[0;34m(self, iteration, fobj)\u001b[0m\n\u001b[1;32m    216\u001b[0m     \u001b[0;32mdef\u001b[0m \u001b[0mupdate\u001b[0m\u001b[0;34m(\u001b[0m\u001b[0mself\u001b[0m\u001b[0;34m,\u001b[0m \u001b[0miteration\u001b[0m\u001b[0;34m,\u001b[0m \u001b[0mfobj\u001b[0m\u001b[0;34m)\u001b[0m\u001b[0;34m:\u001b[0m\u001b[0;34m\u001b[0m\u001b[0m\n\u001b[1;32m    217\u001b[0m         \u001b[0;34m\"\"\"\"Update the boosters for one iteration\"\"\"\u001b[0m\u001b[0;34m\u001b[0m\u001b[0m\n\u001b[0;32m--> 218\u001b[0;31m         \u001b[0mself\u001b[0m\u001b[0;34m.\u001b[0m\u001b[0mbst\u001b[0m\u001b[0;34m.\u001b[0m\u001b[0mupdate\u001b[0m\u001b[0;34m(\u001b[0m\u001b[0mself\u001b[0m\u001b[0;34m.\u001b[0m\u001b[0mdtrain\u001b[0m\u001b[0;34m,\u001b[0m \u001b[0miteration\u001b[0m\u001b[0;34m,\u001b[0m \u001b[0mfobj\u001b[0m\u001b[0;34m)\u001b[0m\u001b[0;34m\u001b[0m\u001b[0m\n\u001b[0m\u001b[1;32m    219\u001b[0m \u001b[0;34m\u001b[0m\u001b[0m\n\u001b[1;32m    220\u001b[0m     \u001b[0;32mdef\u001b[0m \u001b[0meval\u001b[0m\u001b[0;34m(\u001b[0m\u001b[0mself\u001b[0m\u001b[0;34m,\u001b[0m \u001b[0miteration\u001b[0m\u001b[0;34m,\u001b[0m \u001b[0mfeval\u001b[0m\u001b[0;34m)\u001b[0m\u001b[0;34m:\u001b[0m\u001b[0;34m\u001b[0m\u001b[0m\n",
      "\u001b[0;32m/home/guyos/anaconda3/lib/python3.6/site-packages/xgboost-0.6-py3.6.egg/xgboost/core.py\u001b[0m in \u001b[0;36mupdate\u001b[0;34m(self, dtrain, iteration, fobj)\u001b[0m\n\u001b[1;32m    817\u001b[0m \u001b[0;34m\u001b[0m\u001b[0m\n\u001b[1;32m    818\u001b[0m         \u001b[0;32mif\u001b[0m \u001b[0mfobj\u001b[0m \u001b[0;32mis\u001b[0m \u001b[0;32mNone\u001b[0m\u001b[0;34m:\u001b[0m\u001b[0;34m\u001b[0m\u001b[0m\n\u001b[0;32m--> 819\u001b[0;31m             \u001b[0m_check_call\u001b[0m\u001b[0;34m(\u001b[0m\u001b[0m_LIB\u001b[0m\u001b[0;34m.\u001b[0m\u001b[0mXGBoosterUpdateOneIter\u001b[0m\u001b[0;34m(\u001b[0m\u001b[0mself\u001b[0m\u001b[0;34m.\u001b[0m\u001b[0mhandle\u001b[0m\u001b[0;34m,\u001b[0m \u001b[0miteration\u001b[0m\u001b[0;34m,\u001b[0m \u001b[0mdtrain\u001b[0m\u001b[0;34m.\u001b[0m\u001b[0mhandle\u001b[0m\u001b[0;34m)\u001b[0m\u001b[0;34m)\u001b[0m\u001b[0;34m\u001b[0m\u001b[0m\n\u001b[0m\u001b[1;32m    820\u001b[0m         \u001b[0;32melse\u001b[0m\u001b[0;34m:\u001b[0m\u001b[0;34m\u001b[0m\u001b[0m\n\u001b[1;32m    821\u001b[0m             \u001b[0mpred\u001b[0m \u001b[0;34m=\u001b[0m \u001b[0mself\u001b[0m\u001b[0;34m.\u001b[0m\u001b[0mpredict\u001b[0m\u001b[0;34m(\u001b[0m\u001b[0mdtrain\u001b[0m\u001b[0;34m)\u001b[0m\u001b[0;34m\u001b[0m\u001b[0m\n",
      "\u001b[0;31mKeyboardInterrupt\u001b[0m: "
     ],
     "output_type": "error"
    }
   ],
   "source": [
    "model = xgb.XGBClassifier()\n",
    "\n",
    "cv_params = {\n",
    "    'n_estimators': [100],\n",
    "    'learning_rate': [0.1],\n",
    "    'max_depth': [3,4,5,6],\n",
    "    'min_child_weight': [1,2,3,4,5],\n",
    "    'gamma': [1,2,3,4,5,6,7],\n",
    "    'subsample':[0.8,0.9],\n",
    "    'colsample_bytree':[0.8,0.9],\n",
    "    'reg_alpha': [0,1,2,3,4,5],\n",
    "}\n",
    "\n",
    "res0 = xgb_grid_search(model, X_train, y_train, cv_params, nfold=5, eval_metric='auc')\n",
    "res0['diff'] = res0['train-auc-mean'] - res0['test-auc-mean']"
   ]
  },
  {
   "cell_type": "code",
   "execution_count": 23,
   "metadata": {
    "scrolled": false
   },
   "outputs": [
    {
     "ename": "NameError",
     "evalue": "name 'res0' is not defined",
     "traceback": [
      "\u001b[0;31m---------------------------------------------------------------------------\u001b[0m",
      "\u001b[0;31mNameError\u001b[0m                                 Traceback (most recent call last)",
      "\u001b[0;32m<ipython-input-23-ff081a1c3498>\u001b[0m in \u001b[0;36m<module>\u001b[0;34m()\u001b[0m\n\u001b[0;32m----> 1\u001b[0;31m \u001b[0mres0\u001b[0m\u001b[0;34m.\u001b[0m\u001b[0mto_csv\u001b[0m\u001b[0;34m(\u001b[0m\u001b[0mdata_dir\u001b[0m\u001b[0;34m+\u001b[0m\u001b[0;34m'res0.csv'\u001b[0m\u001b[0;34m)\u001b[0m\u001b[0;34m\u001b[0m\u001b[0m\n\u001b[0m\u001b[1;32m      2\u001b[0m \u001b[0mres0\u001b[0m\u001b[0;34m.\u001b[0m\u001b[0mplot\u001b[0m\u001b[0;34m.\u001b[0m\u001b[0mscatter\u001b[0m\u001b[0;34m(\u001b[0m\u001b[0;34m'test-auc-std'\u001b[0m\u001b[0;34m,\u001b[0m \u001b[0;34m'test-auc-mean'\u001b[0m\u001b[0;34m,\u001b[0m \u001b[0mc\u001b[0m\u001b[0;34m=\u001b[0m\u001b[0;34m'diff'\u001b[0m\u001b[0;34m)\u001b[0m\u001b[0;34m\u001b[0m\u001b[0m\n",
      "\u001b[0;31mNameError\u001b[0m: name 'res0' is not defined"
     ],
     "output_type": "error"
    }
   ],
   "source": [
    "res0.to_csv(data_dir+'res0.csv')\n",
    "res0.plot.scatter('test-auc-std', 'test-auc-mean', c='diff')"
   ]
  },
  {
   "cell_type": "markdown",
   "metadata": {},
   "source": [
    "### choose params with best bias/variance tradeoff"
   ]
  },
  {
   "cell_type": "code",
   "execution_count": 22,
   "metadata": {
    "scrolled": true
   },
   "outputs": [
    {
     "ename": "NameError",
     "evalue": "name 'res0' is not defined",
     "traceback": [
      "\u001b[0;31m---------------------------------------------------------------------------\u001b[0m",
      "\u001b[0;31mNameError\u001b[0m                                 Traceback (most recent call last)",
      "\u001b[0;32m<ipython-input-22-2d6e3922faa5>\u001b[0m in \u001b[0;36m<module>\u001b[0;34m()\u001b[0m\n\u001b[0;32m----> 1\u001b[0;31m \u001b[0mres0\u001b[0m\u001b[0;34m[\u001b[0m\u001b[0;34m(\u001b[0m\u001b[0mres0\u001b[0m\u001b[0;34m[\u001b[0m\u001b[0;34m'test-auc-std'\u001b[0m\u001b[0;34m]\u001b[0m\u001b[0;34m.\u001b[0m\u001b[0mbetween\u001b[0m\u001b[0;34m(\u001b[0m\u001b[0;36m0.00897\u001b[0m\u001b[0;34m,\u001b[0m \u001b[0;36m0.00902\u001b[0m\u001b[0;34m)\u001b[0m\u001b[0;34m)\u001b[0m\u001b[0;34m&\u001b[0m\u001b[0;34m(\u001b[0m\u001b[0mres0\u001b[0m\u001b[0;34m[\u001b[0m\u001b[0;34m'test-auc-mean'\u001b[0m\u001b[0;34m]\u001b[0m\u001b[0;34m.\u001b[0m\u001b[0mbetween\u001b[0m\u001b[0;34m(\u001b[0m\u001b[0;36m0.9367\u001b[0m\u001b[0;34m,\u001b[0m \u001b[0;36m0.93679\u001b[0m\u001b[0;34m)\u001b[0m\u001b[0;34m)\u001b[0m\u001b[0;34m]\u001b[0m\u001b[0;34m\u001b[0m\u001b[0m\n\u001b[0m",
      "\u001b[0;31mNameError\u001b[0m: name 'res0' is not defined"
     ],
     "output_type": "error"
    }
   ],
   "source": [
    "res0[(res0['test-auc-std'].between(0.00897, 0.00902))&(res0['test-auc-mean'].between(0.9367, 0.93679))]"
   ]
  },
  {
   "cell_type": "code",
   "execution_count": 7,
   "metadata": {
    "collapsed": true
   },
   "outputs": [],
   "source": [
    "best_params = {'n_estimators': 100, 'learning_rate': 0.1, \n",
    "               'max_depth': 5, 'min_child_weight': 1, \n",
    "               'gamma': 3, 'subsample': 0.8, \n",
    "               'colsample_bytree': 0.8, 'reg_alpha': 5}"
   ]
  },
  {
   "cell_type": "code",
   "execution_count": 21,
   "metadata": {
    "scrolled": false
   },
   "outputs": [
    {
     "ename": "NameError",
     "evalue": "name 'res0' is not defined",
     "traceback": [
      "\u001b[0;31m---------------------------------------------------------------------------\u001b[0m",
      "\u001b[0;31mNameError\u001b[0m                                 Traceback (most recent call last)",
      "\u001b[0;32m<ipython-input-21-bb50b320cdc4>\u001b[0m in \u001b[0;36m<module>\u001b[0;34m()\u001b[0m\n\u001b[0;32m----> 1\u001b[0;31m \u001b[0mres0\u001b[0m\u001b[0;34m[\u001b[0m\u001b[0;34m'diff'\u001b[0m\u001b[0;34m]\u001b[0m \u001b[0;34m=\u001b[0m \u001b[0mres0\u001b[0m\u001b[0;34m[\u001b[0m\u001b[0;34m'train-auc-mean'\u001b[0m\u001b[0;34m]\u001b[0m \u001b[0;34m-\u001b[0m \u001b[0mres0\u001b[0m\u001b[0;34m[\u001b[0m\u001b[0;34m'test-auc-mean'\u001b[0m\u001b[0;34m]\u001b[0m\u001b[0;34m\u001b[0m\u001b[0m\n\u001b[0m\u001b[1;32m      2\u001b[0m \u001b[0;34m\u001b[0m\u001b[0m\n\u001b[1;32m      3\u001b[0m \u001b[0;31m# can't overfitt more than 5 %\u001b[0m\u001b[0;34m\u001b[0m\u001b[0;34m\u001b[0m\u001b[0m\n\u001b[1;32m      4\u001b[0m \u001b[0;31m# sub = res0[res0['diff'] <= 0.06].copy()\u001b[0m\u001b[0;34m\u001b[0m\u001b[0;34m\u001b[0m\u001b[0m\n\u001b[1;32m      5\u001b[0m \u001b[0msub\u001b[0m \u001b[0;34m=\u001b[0m \u001b[0mres0\u001b[0m\u001b[0;34m\u001b[0m\u001b[0m\n",
      "\u001b[0;31mNameError\u001b[0m: name 'res0' is not defined"
     ],
     "output_type": "error"
    }
   ],
   "source": [
    "res0['diff'] = res0['train-auc-mean'] - res0['test-auc-mean']\n",
    "\n",
    "# can't overfitt more than 5 %\n",
    "# sub = res0[res0['diff'] <= 0.06].copy()\n",
    "sub = res0\n",
    "\n",
    "sub.sort_values(by=['test-auc-mean'], inplace=True, ascending=[False])\n",
    "best = sub.iloc[0]\n",
    "# best_params = best['params']\n",
    "display(best)"
   ]
  },
  {
   "cell_type": "markdown",
   "metadata": {},
   "source": [
    "### Finetune n_estimators with early stopping"
   ]
  },
  {
   "cell_type": "code",
   "execution_count": 8,
   "metadata": {
    "scrolled": true
   },
   "outputs": [
    {
     "name": "stdout",
     "output_type": "stream",
     "text": [
      "[0]\ttrain-auc:0.884464+0.00532759\ttest-auc:0.853798+0.0213095\n",
      "[1]\ttrain-auc:0.903268+0.00695158\ttest-auc:0.876955+0.0245069\n",
      "[2]\ttrain-auc:0.914573+0.00748724\ttest-auc:0.890663+0.0185968\n",
      "[3]\ttrain-auc:0.924679+0.0045407\ttest-auc:0.899946+0.0149099\n",
      "[4]\ttrain-auc:0.930064+0.00183282\ttest-auc:0.901839+0.0120465\n",
      "[5]\ttrain-auc:0.935651+0.00343139\ttest-auc:0.905137+0.0141309\n",
      "[6]\ttrain-auc:0.937562+0.00413267\ttest-auc:0.906418+0.014609\n",
      "[7]\ttrain-auc:0.941496+0.00438461\ttest-auc:0.908103+0.0138871\n",
      "[8]\ttrain-auc:0.945053+0.00290783\ttest-auc:0.910172+0.0121581\n",
      "[9]\ttrain-auc:0.947048+0.0023111\ttest-auc:0.909099+0.0116221\n",
      "[10]\ttrain-auc:0.947985+0.00294232\ttest-auc:0.908727+0.0105856\n",
      "[11]\ttrain-auc:0.950635+0.00252055\ttest-auc:0.913298+0.0122338\n",
      "[12]\ttrain-auc:0.952095+0.00248408\ttest-auc:0.914533+0.0107853\n",
      "[13]\ttrain-auc:0.952598+0.00270534\ttest-auc:0.916544+0.00993282\n",
      "[14]\ttrain-auc:0.953899+0.00258665\ttest-auc:0.9189+0.00936226\n",
      "[15]\ttrain-auc:0.95589+0.0020318\ttest-auc:0.920605+0.00785748\n",
      "[16]\ttrain-auc:0.957366+0.00141531\ttest-auc:0.921141+0.00995511\n",
      "[17]\ttrain-auc:0.958297+0.00084098\ttest-auc:0.922993+0.0102842\n",
      "[18]\ttrain-auc:0.959365+0.00127119\ttest-auc:0.922517+0.0110437\n",
      "[19]\ttrain-auc:0.960065+0.000963408\ttest-auc:0.923319+0.0118873\n",
      "[20]\ttrain-auc:0.960775+0.00121521\ttest-auc:0.924031+0.0115914\n",
      "[21]\ttrain-auc:0.961624+0.00122486\ttest-auc:0.925126+0.0113011\n",
      "[22]\ttrain-auc:0.962216+0.00113726\ttest-auc:0.926815+0.0112204\n",
      "[23]\ttrain-auc:0.962638+0.000945681\ttest-auc:0.927756+0.0109332\n",
      "[24]\ttrain-auc:0.963852+0.000716579\ttest-auc:0.928841+0.0116238\n",
      "[25]\ttrain-auc:0.964638+0.000476221\ttest-auc:0.929354+0.0105807\n",
      "[26]\ttrain-auc:0.964837+0.000706655\ttest-auc:0.929219+0.011179\n",
      "[27]\ttrain-auc:0.965172+0.000749129\ttest-auc:0.930492+0.0111107\n",
      "[28]\ttrain-auc:0.966178+0.000883316\ttest-auc:0.930684+0.0103694\n",
      "[29]\ttrain-auc:0.967236+0.00127689\ttest-auc:0.93121+0.0105506\n",
      "[30]\ttrain-auc:0.967863+0.000777531\ttest-auc:0.931198+0.0113133\n",
      "[31]\ttrain-auc:0.968202+0.000878721\ttest-auc:0.931684+0.0105455\n",
      "[32]\ttrain-auc:0.968716+0.000351718\ttest-auc:0.932062+0.0108448\n",
      "[33]\ttrain-auc:0.969155+0.000283439\ttest-auc:0.931706+0.0112623\n",
      "[34]\ttrain-auc:0.969556+0.000346239\ttest-auc:0.93195+0.0109066\n",
      "[35]\ttrain-auc:0.969935+0.00038194\ttest-auc:0.932356+0.0106786\n",
      "[36]\ttrain-auc:0.970223+0.000538845\ttest-auc:0.932813+0.0106422\n",
      "[37]\ttrain-auc:0.970654+0.000574906\ttest-auc:0.933451+0.0104982\n",
      "[38]\ttrain-auc:0.970999+0.000706203\ttest-auc:0.933698+0.0103871\n",
      "[39]\ttrain-auc:0.971293+0.000942859\ttest-auc:0.933245+0.0104934\n",
      "[40]\ttrain-auc:0.971469+0.000948963\ttest-auc:0.933284+0.0100419\n",
      "[41]\ttrain-auc:0.971798+0.000828386\ttest-auc:0.933657+0.0106315\n",
      "[42]\ttrain-auc:0.972239+0.000978932\ttest-auc:0.933726+0.0104069\n",
      "[43]\ttrain-auc:0.972558+0.000942147\ttest-auc:0.934324+0.00986571\n",
      "[44]\ttrain-auc:0.972924+0.00109352\ttest-auc:0.934336+0.00984129\n",
      "[45]\ttrain-auc:0.97314+0.000873156\ttest-auc:0.934099+0.00987739\n",
      "[46]\ttrain-auc:0.973339+0.00107225\ttest-auc:0.934494+0.0101754\n",
      "[47]\ttrain-auc:0.973716+0.00102405\ttest-auc:0.935116+0.0102723\n",
      "[48]\ttrain-auc:0.973897+0.0012217\ttest-auc:0.935161+0.0105228\n",
      "[49]\ttrain-auc:0.974015+0.00124058\ttest-auc:0.935307+0.0103809\n",
      "[50]\ttrain-auc:0.974154+0.00146787\ttest-auc:0.935251+0.0106555\n",
      "[51]\ttrain-auc:0.974279+0.00137713\ttest-auc:0.93533+0.0107107\n",
      "[52]\ttrain-auc:0.974576+0.00143619\ttest-auc:0.935261+0.0107538\n",
      "[53]\ttrain-auc:0.974724+0.00135509\ttest-auc:0.935499+0.0109552\n",
      "[54]\ttrain-auc:0.974803+0.00134247\ttest-auc:0.935441+0.0105187\n",
      "[55]\ttrain-auc:0.97503+0.00169148\ttest-auc:0.93569+0.0103449\n",
      "[56]\ttrain-auc:0.975133+0.00169488\ttest-auc:0.935904+0.0103181\n",
      "[57]\ttrain-auc:0.97534+0.00178504\ttest-auc:0.935791+0.0105032\n",
      "[58]\ttrain-auc:0.975493+0.00177534\ttest-auc:0.935937+0.0102308\n",
      "[59]\ttrain-auc:0.975525+0.00173282\ttest-auc:0.935982+0.0102722\n",
      "[60]\ttrain-auc:0.975872+0.0016208\ttest-auc:0.936163+0.0100721\n",
      "[61]\ttrain-auc:0.975996+0.00148187\ttest-auc:0.93623+0.010126\n",
      "[62]\ttrain-auc:0.976046+0.00149073\ttest-auc:0.936185+0.0100888\n",
      "[63]\ttrain-auc:0.976157+0.00148132\ttest-auc:0.936139+0.0104181\n",
      "[64]\ttrain-auc:0.976429+0.00173055\ttest-auc:0.936286+0.0100959\n",
      "[65]\ttrain-auc:0.97657+0.00175532\ttest-auc:0.936591+0.0100292\n",
      "[66]\ttrain-auc:0.976637+0.00170842\ttest-auc:0.936636+0.0100606\n",
      "[67]\ttrain-auc:0.976637+0.00170842\ttest-auc:0.936636+0.0100606\n",
      "[68]\ttrain-auc:0.976732+0.00157563\ttest-auc:0.936749+0.0101736\n",
      "[69]\ttrain-auc:0.976754+0.00155937\ttest-auc:0.936794+0.0102047\n",
      "[70]\ttrain-auc:0.976759+0.0015589\ttest-auc:0.936896+0.0102796\n",
      "[71]\ttrain-auc:0.976789+0.00158068\ttest-auc:0.936794+0.0103941\n",
      "[72]\ttrain-auc:0.977012+0.00154294\ttest-auc:0.936546+0.0105831\n",
      "[73]\ttrain-auc:0.977079+0.00161804\ttest-auc:0.93675+0.0103872\n",
      "[74]\ttrain-auc:0.977105+0.00158496\ttest-auc:0.936941+0.010591\n",
      "[75]\ttrain-auc:0.977105+0.00158496\ttest-auc:0.936941+0.010591\n",
      "[76]\ttrain-auc:0.97721+0.00154725\ttest-auc:0.936828+0.0105195\n",
      "[77]\ttrain-auc:0.97721+0.00154725\ttest-auc:0.936828+0.0105195\n",
      "[78]\ttrain-auc:0.977209+0.00154826\ttest-auc:0.936861+0.0105431\n",
      "[79]\ttrain-auc:0.97732+0.00145678\ttest-auc:0.937121+0.0108198\n",
      "[80]\ttrain-auc:0.977309+0.00147302\ttest-auc:0.936997+0.0106833\n",
      "[81]\ttrain-auc:0.977341+0.00151712\ttest-auc:0.93694+0.0107571\n",
      "[82]\ttrain-auc:0.977338+0.00151907\ttest-auc:0.937008+0.0108044\n",
      "[83]\ttrain-auc:0.977369+0.00149552\ttest-auc:0.936895+0.0109\n",
      "[84]\ttrain-auc:0.977497+0.00144783\ttest-auc:0.937121+0.0110608\n",
      "[85]\ttrain-auc:0.977636+0.00149312\ttest-auc:0.936963+0.0110671\n",
      "[86]\ttrain-auc:0.977636+0.00149312\ttest-auc:0.936963+0.0110671\n",
      "[87]\ttrain-auc:0.977724+0.00153707\ttest-auc:0.936929+0.0108618\n",
      "[88]\ttrain-auc:0.977724+0.00153707\ttest-auc:0.936929+0.0108618\n",
      "[89]\ttrain-auc:0.977724+0.00153707\ttest-auc:0.936929+0.0108618\n",
      "[90]\ttrain-auc:0.977789+0.0014905\ttest-auc:0.936873+0.0108221\n",
      "[91]\ttrain-auc:0.977837+0.00150261\ttest-auc:0.936793+0.0107688\n",
      "[92]\ttrain-auc:0.977936+0.00149672\ttest-auc:0.937132+0.0110096\n",
      "[93]\ttrain-auc:0.978109+0.00143301\ttest-auc:0.937155+0.0110269\n",
      "[94]\ttrain-auc:0.978169+0.00144343\ttest-auc:0.936997+0.010911\n",
      "[95]\ttrain-auc:0.978181+0.00144981\ttest-auc:0.937031+0.0108729\n",
      "[96]\ttrain-auc:0.978208+0.00146191\ttest-auc:0.937042+0.0108805\n",
      "[97]\ttrain-auc:0.978208+0.00146191\ttest-auc:0.937042+0.0108805\n",
      "[98]\ttrain-auc:0.97839+0.00148558\ttest-auc:0.937053+0.0108888\n",
      "[99]\ttrain-auc:0.97839+0.00148558\ttest-auc:0.937053+0.0108888\n",
      "[100]\ttrain-auc:0.978407+0.00149186\ttest-auc:0.93694+0.010815\n",
      "[101]\ttrain-auc:0.978407+0.00149186\ttest-auc:0.93694+0.010815\n",
      "[102]\ttrain-auc:0.978829+0.00162496\ttest-auc:0.93694+0.0108466\n",
      "[103]\ttrain-auc:0.978844+0.00163978\ttest-auc:0.93676+0.0110511\n",
      "[104]\ttrain-auc:0.978844+0.00163978\ttest-auc:0.93676+0.0110511\n",
      "[105]\ttrain-auc:0.978844+0.00163978\ttest-auc:0.93676+0.0110511\n",
      "[106]\ttrain-auc:0.978838+0.00163931\ttest-auc:0.93685+0.01111\n",
      "[107]\ttrain-auc:0.97881+0.00161151\ttest-auc:0.936783+0.0111891\n",
      "[108]\ttrain-auc:0.978919+0.00170412\ttest-auc:0.936951+0.0111079\n",
      "[109]\ttrain-auc:0.979053+0.00172845\ttest-auc:0.936906+0.0110784\n",
      "[110]\ttrain-auc:0.979142+0.00180192\ttest-auc:0.937053+0.0109432\n",
      "[111]\ttrain-auc:0.979142+0.00180192\ttest-auc:0.937053+0.0109432\n",
      "[112]\ttrain-auc:0.979145+0.00180578\ttest-auc:0.937041+0.0109551\n",
      "[113]\ttrain-auc:0.979145+0.00180578\ttest-auc:0.937041+0.0109551\n",
      "[114]\ttrain-auc:0.979173+0.00181587\ttest-auc:0.936939+0.0108915\n",
      "[115]\ttrain-auc:0.979173+0.00181587\ttest-auc:0.936939+0.0108915\n",
      "[116]\ttrain-auc:0.979212+0.00182486\ttest-auc:0.937064+0.0109803\n",
      "[117]\ttrain-auc:0.979212+0.00182486\ttest-auc:0.937064+0.0109803\n",
      "[118]\ttrain-auc:0.979296+0.0018898\ttest-auc:0.937165+0.0109157\n",
      "[119]\ttrain-auc:0.979369+0.0019505\ttest-auc:0.937244+0.0109716\n",
      "[120]\ttrain-auc:0.979392+0.00195441\ttest-auc:0.937153+0.0110979\n",
      "[121]\ttrain-auc:0.979526+0.00210253\ttest-auc:0.937243+0.0110089\n",
      "[122]\ttrain-auc:0.979586+0.00199227\ttest-auc:0.937289+0.0110569\n",
      "[123]\ttrain-auc:0.979586+0.00199227\ttest-auc:0.937289+0.0110569\n",
      "[124]\ttrain-auc:0.979622+0.00199686\ttest-auc:0.937311+0.0110248\n",
      "[125]\ttrain-auc:0.979622+0.00199686\ttest-auc:0.937311+0.0110248\n",
      "[126]\ttrain-auc:0.979622+0.00199686\ttest-auc:0.937311+0.0110248\n",
      "[127]\ttrain-auc:0.979622+0.00199686\ttest-auc:0.937311+0.0110248\n",
      "[128]\ttrain-auc:0.979622+0.00199686\ttest-auc:0.937311+0.0110248\n",
      "[129]\ttrain-auc:0.979622+0.00199686\ttest-auc:0.937311+0.0110248\n",
      "[130]\ttrain-auc:0.979622+0.00199686\ttest-auc:0.937311+0.0110248\n"
     ]
    },
    {
     "name": "stdout",
     "output_type": "stream",
     "text": [
      "[131]\ttrain-auc:0.979622+0.00199686\ttest-auc:0.937311+0.0110248\n",
      "[132]\ttrain-auc:0.979622+0.00199686\ttest-auc:0.937311+0.0110248\n",
      "[133]\ttrain-auc:0.979796+0.0020508\ttest-auc:0.9373+0.01104\n",
      "[134]\ttrain-auc:0.979796+0.0020508\ttest-auc:0.9373+0.01104\n",
      "[135]\ttrain-auc:0.979796+0.0020508\ttest-auc:0.9373+0.01104\n",
      "[136]\ttrain-auc:0.979796+0.0020508\ttest-auc:0.9373+0.01104\n",
      "[137]\ttrain-auc:0.979924+0.00209208\ttest-auc:0.937481+0.0109389\n",
      "[138]\ttrain-auc:0.979924+0.00209208\ttest-auc:0.937481+0.0109389\n",
      "[139]\ttrain-auc:0.979924+0.00209208\ttest-auc:0.937481+0.0109389\n",
      "[140]\ttrain-auc:0.980082+0.00221004\ttest-auc:0.937255+0.0112238\n",
      "[141]\ttrain-auc:0.980082+0.00221004\ttest-auc:0.937255+0.0112238\n",
      "[142]\ttrain-auc:0.980082+0.00221004\ttest-auc:0.937255+0.0112238\n",
      "[143]\ttrain-auc:0.980082+0.00221004\ttest-auc:0.937255+0.0112238\n",
      "[144]\ttrain-auc:0.980082+0.00221004\ttest-auc:0.937255+0.0112238\n",
      "[145]\ttrain-auc:0.980131+0.00211895\ttest-auc:0.93739+0.0113688\n",
      "[146]\ttrain-auc:0.980131+0.00211895\ttest-auc:0.93739+0.0113688\n",
      "[147]\ttrain-auc:0.980131+0.00211895\ttest-auc:0.93739+0.0113688\n",
      "[148]\ttrain-auc:0.980131+0.00211895\ttest-auc:0.93739+0.0113688\n",
      "[149]\ttrain-auc:0.980131+0.00211895\ttest-auc:0.93739+0.0113688\n",
      "[150]\ttrain-auc:0.980156+0.00213346\ttest-auc:0.937265+0.0115446\n",
      "[151]\ttrain-auc:0.980156+0.00213346\ttest-auc:0.937265+0.0115446\n",
      "[152]\ttrain-auc:0.980285+0.0021715\ttest-auc:0.937039+0.011803\n",
      "[153]\ttrain-auc:0.980497+0.00229293\ttest-auc:0.936971+0.0119526\n",
      "[154]\ttrain-auc:0.980497+0.00229293\ttest-auc:0.936971+0.0119526\n",
      "[155]\ttrain-auc:0.980559+0.00234636\ttest-auc:0.937039+0.0118917\n",
      "[156]\ttrain-auc:0.980643+0.00219075\ttest-auc:0.937005+0.0118555\n",
      "[157]\ttrain-auc:0.980662+0.00220885\ttest-auc:0.937061+0.0118058\n",
      "[158]\ttrain-auc:0.980662+0.00220885\ttest-auc:0.937061+0.0118058\n",
      "[159]\ttrain-auc:0.980662+0.00220885\ttest-auc:0.937061+0.0118058\n",
      "[160]\ttrain-auc:0.980662+0.00220885\ttest-auc:0.937061+0.0118058\n",
      "[161]\ttrain-auc:0.980767+0.00229476\ttest-auc:0.937016+0.011771\n",
      "[162]\ttrain-auc:0.980767+0.00229476\ttest-auc:0.937016+0.011771\n",
      "[163]\ttrain-auc:0.980767+0.00229476\ttest-auc:0.937016+0.011771\n",
      "[164]\ttrain-auc:0.980841+0.00236739\ttest-auc:0.937016+0.011771\n",
      "[165]\ttrain-auc:0.980879+0.00230143\ttest-auc:0.937039+0.0121318\n",
      "[166]\ttrain-auc:0.980879+0.00230143\ttest-auc:0.937039+0.0121318\n",
      "[167]\ttrain-auc:0.980945+0.00231434\ttest-auc:0.937005+0.0121069\n",
      "[168]\ttrain-auc:0.981025+0.00217344\ttest-auc:0.936982+0.0120816\n",
      "[169]\ttrain-auc:0.981025+0.00217344\ttest-auc:0.936982+0.0120816\n",
      "[170]\ttrain-auc:0.981025+0.00217344\ttest-auc:0.936982+0.0120816\n",
      "[171]\ttrain-auc:0.981025+0.00217344\ttest-auc:0.936982+0.0120816\n",
      "[172]\ttrain-auc:0.981025+0.00217344\ttest-auc:0.936982+0.0120816\n",
      "[173]\ttrain-auc:0.981025+0.00217344\ttest-auc:0.936982+0.0120816\n",
      "[174]\ttrain-auc:0.981061+0.00211022\ttest-auc:0.93705+0.0121576\n",
      "[175]\ttrain-auc:0.981062+0.00211137\ttest-auc:0.936982+0.0122202\n",
      "[176]\ttrain-auc:0.981062+0.00211137\ttest-auc:0.936982+0.0122202\n"
     ]
    }
   ],
   "source": [
    "model = xgb.XGBClassifier()\n",
    "model.set_params(**best_params)\n",
    "\n",
    "estop = 40\n",
    "dtrain = xgb.DMatrix(X_train, y_train)\n",
    "res3 = xgb.cv(model.get_params(), dtrain, metrics=['auc'],\n",
    "             num_boost_round=10000, nfold=5,\n",
    "             early_stopping_rounds=estop, \n",
    "              seed=0, stratified=True,\n",
    "             verbose_eval=True)\n",
    "\n",
    "best_nrounds = res3.shape[0] - estop\n",
    "best_nrounds = int(best_nrounds / 0.8)"
   ]
  },
  {
   "cell_type": "code",
   "execution_count": 20,
   "metadata": {
    "scrolled": false
   },
   "outputs": [
    {
     "name": "stdout",
     "output_type": "stream",
     "text": [
      "test-auc-mean     0.937481\n",
      "test-auc-std      0.010939\n",
      "train-auc-mean    0.979924\n",
      "train-auc-std     0.002092\n",
      "Name: 137, dtype: float64\n",
      "122\n"
     ]
    }
   ],
   "source": [
    "print(res3.iloc[-1])\n",
    "print(best_nrounds)"
   ]
  },
  {
   "cell_type": "code",
   "execution_count": 10,
   "metadata": {},
   "outputs": [
    {
     "data": {
      "text/plain": [
       "{'colsample_bytree': 0.8,\n",
       " 'gamma': 3,\n",
       " 'learning_rate': 0.1,\n",
       " 'max_depth': 5,\n",
       " 'min_child_weight': 1,\n",
       " 'n_estimators': 122,\n",
       " 'reg_alpha': 5,\n",
       " 'subsample': 0.8}"
      ]
     },
     "execution_count": 10,
     "metadata": {},
     "output_type": "execute_result"
    }
   ],
   "source": [
    "best_params['n_estimators'] = best_nrounds\n",
    "best_params"
   ]
  },
  {
   "cell_type": "code",
   "execution_count": 11,
   "metadata": {
    "scrolled": false
   },
   "outputs": [
    {
     "name": "stdout",
     "output_type": "stream",
     "text": [
      "Accuracy: 93.12%, f1 score: 83.53%, auc score: 95.50%\n",
      "[[308  13]\n",
      " [ 15  71]]\n",
      "0.959501557632\n",
      "0.825581395349\n"
     ]
    },
    {
     "data": {
      "image/png": "[encoded data removed]",
      "text/plain": [
       "<matplotlib.figure.Figure at 0x7f1803e17390>"
      ]
     },
     "metadata": {},
     "output_type": "display_data"
    }
   ],
   "source": [
    "model = xgb.XGBClassifier()\n",
    "model.set_params(**best_params)\n",
    "\n",
    "model.fit(X_train, y_train)\n",
    "\n",
    "probs = model.predict_proba(X_test)[:,1]\n",
    "# y_pred = (probs >= 0.5).astype(int)\n",
    "# wrong_busses = X_test[(y_test == 1) & (y_pred == 0)].index\n",
    "# pd.Series(wrong_busses).to_csv(data_dir + 'wrong_busses.csv', index=False)\n",
    "\n",
    "ones = probs[np.where(y_test == 1)]\n",
    "zeros = probs[np.where(y_test == 0)]\n",
    "\n",
    "sns.distplot(ones, label='bus')\n",
    "sns.distplot(zeros, label='original driver')\n",
    "plt.xlabel('prob')\n",
    "plt.ylabel('freq')\n",
    "plt.legend(loc=\"best\")\n",
    "\n",
    "cm = evaluate(probs, y_test, threshold=0.4)\n",
    "print(cm)\n",
    "print(cm[0,0]/sum(cm[0,]))\n",
    "print(cm[1,1]/sum(cm[1,]))"
   ]
  },
  {
   "cell_type": "markdown",
   "metadata": {},
   "source": [
    "### save model"
   ]
  },
  {
   "cell_type": "code",
   "execution_count": 12,
   "metadata": {
    "collapsed": true
   },
   "outputs": [],
   "source": [
    "model = xgb.XGBClassifier()\n",
    "model.set_params(**best_params)\n",
    "model.fit(X, y)\n",
    "\n",
    "with open(data_dir + 'model_busses.pickle', 'wb') as handle:\n",
    "    pickle.dump([list(X.columns), model], handle, protocol=2)"
   ]
  },
  {
   "cell_type": "markdown",
   "metadata": {},
   "source": [
    "### plot importance "
   ]
  },
  {
   "cell_type": "code",
   "execution_count": 13,
   "metadata": {},
   "outputs": [
    {
     "data": {
      "image/png": "[encoded data removed]",
      "text/plain": [
       "<matplotlib.figure.Figure at 0x7f183dbb1860>"
      ]
     },
     "metadata": {},
     "output_type": "display_data"
    }
   ],
   "source": [
    "from xgboost import plot_importance\n",
    "from matplotlib import pyplot\n",
    "\n",
    "# plot feature importance\n",
    "plot_importance(model, max_num_features=20)\n",
    "pyplot.tight_layout()\n",
    "pyplot.show()"
   ]
  },
  {
   "cell_type": "markdown",
   "metadata": {},
   "source": [
    "### compare with old result"
   ]
  },
  {
   "cell_type": "code",
   "execution_count": 14,
   "metadata": {},
   "outputs": [
    {
     "name": "stdout",
     "output_type": "stream",
     "text": [
      "122\n"
     ]
    },
    {
     "data": {
      "text/plain": [
       "test-auc-mean     0.934842\n",
       "test-auc-std      0.013838\n",
       "train-auc-mean    0.980074\n",
       "train-auc-std     0.003520\n",
       "Name: 140, dtype: float64"
      ]
     },
     "execution_count": 14,
     "metadata": {},
     "output_type": "execute_result"
    }
   ],
   "source": [
    "model = xgb.XGBClassifier(colsample_bytree=0.8, gamma=5,\n",
    "                             max_depth=6, n_estimators=300,\n",
    "                             reg_alpha=2.5, subsample=0.9)\n",
    "estop = 40\n",
    "dtrain = xgb.DMatrix(X_train, y_train)\n",
    "res4 = xgb.cv(model.get_params(), dtrain, metrics=['auc'],\n",
    "              num_boost_round=5000, \n",
    "              nfold=5,\n",
    "             early_stopping_rounds=estop, \n",
    "              seed=0, stratified=True)\n",
    "\n",
    "best_nrounds = res3.shape[0] - estop\n",
    "best_nrounds = int(best_nrounds / 0.8)\n",
    "print(best_nrounds)\n",
    "res4.iloc[-1]"
   ]
  },
  {
   "cell_type": "code",
   "execution_count": 80,
   "metadata": {},
   "outputs": [
    {
     "data": {
      "text/plain": [
       "0.94333546035612525"
      ]
     },
     "execution_count": 80,
     "metadata": {},
     "output_type": "execute_result"
    }
   ],
   "source": [
    "from sklearn.ensemble import RandomForestClassifier as RF\n",
    "\n",
    "clf = RF(n_estimators=150)\n",
    "# clf = clf.fit(X, y)\n",
    "skf = StratifiedKFold(n_splits=10, shuffle=True, random_state=0)\n",
    "scores = cross_val_score(clf, X, y, n_jobs=-1, scoring='roc_auc', cv=skf)\n",
    "np.mean(scores)"
   ]
  },
  {
   "cell_type": "code",
   "execution_count": 81,
   "metadata": {
    "scrolled": true
   },
   "outputs": [
    {
     "name": "stdout",
     "output_type": "stream",
     "text": [
      "1.0\n",
      "0.930698961047\n"
     ]
    }
   ],
   "source": [
    "model = RF(n_estimators=150)\n",
    "model.fit(X_train, y_train)\n",
    "train_probs = model.predict_proba(X_train)[:,1]\n",
    "print(roc_auc_score(y_train, train_probs))\n",
    "\n",
    "test_probs = model.predict_proba(X_test)[:,1]\n",
    "print(roc_auc_score(y_test, test_probs))"
   ]
  },
  {
   "cell_type": "code",
   "execution_count": 18,
   "metadata": {
    "collapsed": true
   },
   "outputs": [],
   "source": [
    "def plot_learning_curve(estimator, title, X, y, ylim=None, cv=None,\n",
    "                        n_jobs=1, train_sizes=np.linspace(.1, 1.0, 5)):\n",
    "    \"\"\"\n",
    "    Generate a simple plot of the test and training learning curve.\n",
    "\n",
    "    Parameters\n",
    "    ----------\n",
    "    estimator : object type that implements the \"fit\" and \"predict\" methods\n",
    "        An object of that type which is cloned for each validation.\n",
    "\n",
    "    title : string\n",
    "        Title for the chart.\n",
    "\n",
    "    X : array-like, shape (n_samples, n_features)\n",
    "        Training vector, where n_samples is the number of samples and\n",
    "        n_features is the number of features.\n",
    "\n",
    "    y : array-like, shape (n_samples) or (n_samples, n_features), optional\n",
    "        Target relative to X for classification or regression;\n",
    "        None for unsupervised learning.\n",
    "\n",
    "    ylim : tuple, shape (ymin, ymax), optional\n",
    "        Defines minimum and maximum yvalues plotted.\n",
    "\n",
    "    cv : int, cross-validation generator or an iterable, optional\n",
    "        Determines the cross-validation splitting strategy.\n",
    "        Possible inputs for cv are:\n",
    "          - None, to use the default 3-fold cross-validation,\n",
    "          - integer, to specify the number of folds.\n",
    "          - An object to be used as a cross-validation generator.\n",
    "          - An iterable yielding train/test splits.\n",
    "\n",
    "        For integer/None inputs, if ``y`` is binary or multiclass,\n",
    "        :class:`StratifiedKFold` used. If the estimator is not a classifier\n",
    "        or if ``y`` is neither binary nor multiclass, :class:`KFold` is used.\n",
    "\n",
    "        Refer :ref:`User Guide <cross_validation>` for the various\n",
    "        cross-validators that can be used here.\n",
    "\n",
    "    n_jobs : integer, optional\n",
    "        Number of jobs to run in parallel (default 1).\n",
    "    \"\"\"\n",
    "    plt.figure()\n",
    "    plt.title(title)\n",
    "    if ylim is not None:\n",
    "        plt.ylim(*ylim)\n",
    "    plt.xlabel(\"Training examples\")\n",
    "    plt.ylabel(\"Score\")\n",
    "    train_sizes, train_scores, test_scores = learning_curve(\n",
    "        estimator, X, y, cv=cv, n_jobs=n_jobs, train_sizes=train_sizes)\n",
    "    train_scores_mean = np.mean(train_scores, axis=1)\n",
    "    train_scores_std = np.std(train_scores, axis=1)\n",
    "    test_scores_mean = np.mean(test_scores, axis=1)\n",
    "    test_scores_std = np.std(test_scores, axis=1)\n",
    "    plt.grid()\n",
    "\n",
    "    plt.fill_between(train_sizes, train_scores_mean - train_scores_std,\n",
    "                     train_scores_mean + train_scores_std, alpha=0.1,\n",
    "                     color=\"r\")\n",
    "    plt.fill_between(train_sizes, test_scores_mean - test_scores_std,\n",
    "                     test_scores_mean + test_scores_std, alpha=0.1, color=\"g\")\n",
    "    plt.plot(train_sizes, train_scores_mean, 'o-', color=\"r\",\n",
    "             label=\"Training score\")\n",
    "    plt.plot(train_sizes, test_scores_mean, 'o-', color=\"g\",\n",
    "             label=\"Cross-validation score\")\n",
    "\n",
    "    plt.legend(loc=\"best\")\n",
    "    return plt"
   ]
  },
  {
   "cell_type": "code",
   "execution_count": 19,
   "metadata": {},
   "outputs": [
    {
     "data": {
      "text/plain": [
       "<module 'matplotlib.pyplot' from '/home/guyos/anaconda3/lib/python3.6/site-packages/matplotlib/pyplot.py'>"
      ]
     },
     "execution_count": 19,
     "metadata": {},
     "output_type": "execute_result"
    },
    {
     "data": {
      "image/png": "[encoded data removed]",
      "text/plain": [
       "<matplotlib.figure.Figure at 0x7f18003e1668>"
      ]
     },
     "metadata": {},
     "output_type": "display_data"
    }
   ],
   "source": [
    "plot_learning_curve(model, 'Learning Curves', X, y, n_jobs=-1)"
   ]
  }
 ],
 "metadata": {
  "kernelspec": {
   "display_name": "Python 3",
   "language": "python",
   "name": "python3"
  },
  "language_info": {
   "codemirror_mode": {
    "name": "ipython",
    "version": 3.0
   },
   "file_extension": ".py",
   "mimetype": "text/x-python",
   "name": "python",
   "nbconvert_exporter": "python",
   "pygments_lexer": "ipython3",
   "version": "3.6.1"
  }
 },
 "nbformat": 4,
 "nbformat_minor": 0
}