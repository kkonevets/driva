{
 "cells": [
  {
   "cell_type": "code",
   "execution_count": 1,
   "metadata": {
    "collapsed": true
   },
   "outputs": [],
   "source": [
    "import re\n",
    "import pandas as pd\n",
    "\n",
    "file_path = '/home/guyos/Downloads/allout.txt'\n",
    "\n",
    "def extract(expr, line):\n",
    "    mscs = re.findall(expr, line)\n",
    "    if len(mscs) != 1:\n",
    "        return None\n",
    "    t = float(mscs[0])\n",
    "\n",
    "    return t\n"
   ]
  },
  {
   "cell_type": "code",
   "execution_count": 2,
   "metadata": {
    "collapsed": true
   },
   "outputs": [],
   "source": [
    "expr = 'primitive calls\\) in (.*?) seconds'\n",
    "\n",
    "with open(file_path, 'r') as f:\n",
    "    parsed = [extract(expr, line) for line in f]\n",
    "\n",
    "p = pd.Series(parsed)\n",
    "p = p[~p.isnull()]"
   ]
  }
 ],
 "metadata": {
  "kernelspec": {
   "display_name": "Python 3",
   "language": "python",
   "name": "python3"
  },
  "language_info": {
   "codemirror_mode": {
    "name": "ipython",
    "version": 3
   },
   "file_extension": ".py",
   "mimetype": "text/x-python",
   "name": "python",
   "nbconvert_exporter": "python",
   "pygments_lexer": "ipython3",
   "version": "3.6.1"
  }
 },
 "nbformat": 4,
 "nbformat_minor": 2
}
